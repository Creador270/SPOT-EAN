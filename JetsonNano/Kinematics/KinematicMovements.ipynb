{
  "cells": [
    {
      "cell_type": "markdown",
      "metadata": {},
      "source": [
        "# Solving first kinematic Movements\n",
        "\n",
        "We can now control the Robots Legs using XYZ-Coordinates. \n",
        "The next small step will be to define some kind of kinematic motion segments.\n",
        "\n",
        "First goal is to:\n",
        "1. set the robo-dog in a \"wait/sleep\"-position, \n",
        "2. then let it stand up keeping the same feet-position\n",
        "3. and then put the feet on new/more wider and stable positions\n",
        "\n"
      ]
    },
    {
      "cell_type": "code",
      "execution_count": 1,
      "metadata": {},
      "outputs": [
        {
          "name": "stdout",
          "output_type": "stream",
          "text": [
            "pybullet build time: Nov 23 2023 18:56:58\n",
            "b3Warning[examples/Importers/ImportURDFDemo/BulletUrdfImporter.cpp,126]:\n",
            "No inertial data for link, using mass=1, localinertiadiagonal = 1,1,1, identity local inertial frameb3Warning[examples/Importers/ImportURDFDemo/BulletUrdfImporter.cpp,126]:\n",
            "front_left_leg_link_coverb3Warning[examples/Importers/ImportURDFDemo/BulletUrdfImporter.cpp,126]:\n",
            "No inertial data for link, using mass=1, localinertiadiagonal = 1,1,1, identity local inertial frameb3Warning[examples/Importers/ImportURDFDemo/BulletUrdfImporter.cpp,126]:\n",
            "front_right_leg_link_coverb3Warning[examples/Importers/ImportURDFDemo/BulletUrdfImporter.cpp,126]:\n",
            "No inertial data for link, using mass=1, localinertiadiagonal = 1,1,1, identity local inertial frameb3Warning[examples/Importers/ImportURDFDemo/BulletUrdfImporter.cpp,126]:\n",
            "rear_left_leg_link_coverb3Warning[examples/Importers/ImportURDFDemo/BulletUrdfImporter.cpp,126]:\n",
            "No inertial data for link, using mass=1, localinertiadiagonal = 1,1,1, identity local inertial frameb3Warning[examples/Importers/ImportURDFDemo/BulletUrdfImporter.cpp,126]:\n",
            "rear_right_leg_link_cover"
          ]
        },
        {
          "data": {
            "text/plain": [
              "<Figure size 640x480 with 0 Axes>"
            ]
          },
          "metadata": {},
          "output_type": "display_data"
        }
      ],
      "source": [
        "%matplotlib inline\n",
        "\n",
        "import matplotlib\n",
        "import numpy as np\n",
        "import matplotlib.pyplot as plt\n",
        "import pybullet as p\n",
        "import pybullet_data\n",
        "from kinematics import Kinematic\n",
        "\n",
        "p.connect(p.DIRECT)\n",
        "p.setAdditionalSearchPath(pybullet_data.getDataPath())\n",
        "\n",
        "p.loadURDF(\"plane.urdf\")\n",
        "\n",
        "quadruped = p.loadURDF(\"../urdf/spotmicroai_gen.urdf.xml\", (0,0,0.2),\n",
        "                    (0,0,0,1), \n",
        "                    useFixedBase=False,\n",
        "                    useMaximalCoordinates=False,\n",
        "                    flags=p.URDF_USE_IMPLICIT_CYLINDER)\n",
        "p.setRealTimeSimulation(False)"
      ]
    },
    {
      "cell_type": "code",
      "execution_count": 4,
      "metadata": {},
      "outputs": [
        {
          "ename": "NameError",
          "evalue": "name 'r2d2' is not defined",
          "output_type": "error",
          "traceback": [
            "\u001b[0;31m---------------------------------------------------------------------------\u001b[0m",
            "\u001b[0;31mNameError\u001b[0m                                 Traceback (most recent call last)",
            "Cell \u001b[0;32mIn[4], line 8\u001b[0m\n\u001b[1;32m      6\u001b[0m precision\u001b[38;5;241m=\u001b[39m\u001b[38;5;241m5\u001b[39m\n\u001b[1;32m      7\u001b[0m \u001b[38;5;28;01mfor\u001b[39;00m i \u001b[38;5;129;01min\u001b[39;00m \u001b[38;5;28mrange\u001b[39m (\u001b[38;5;241m10000\u001b[39m):\n\u001b[0;32m----> 8\u001b[0m     pos,orn \u001b[38;5;241m=\u001b[39m p\u001b[38;5;241m.\u001b[39mgetBasePositionAndOrientation(\u001b[43mr2d2\u001b[49m)\n\u001b[1;32m      9\u001b[0m     posmsg\u001b[38;5;241m=\u001b[39m\u001b[38;5;124m'\u001b[39m\u001b[38;5;124mpos = \u001b[39m\u001b[38;5;124m{\u001b[39m\u001b[38;5;124mposx:.\u001b[39m\u001b[38;5;132;01m{prec}\u001b[39;00m\u001b[38;5;124mf},\u001b[39m\u001b[38;5;124m{\u001b[39m\u001b[38;5;124mposy:.\u001b[39m\u001b[38;5;132;01m{prec}\u001b[39;00m\u001b[38;5;124mf},\u001b[39m\u001b[38;5;124m{\u001b[39m\u001b[38;5;124mposz:.\u001b[39m\u001b[38;5;132;01m{prec}\u001b[39;00m\u001b[38;5;124mf}   \u001b[39m\u001b[38;5;124m'\u001b[39m\u001b[38;5;241m.\u001b[39mformat(posx\u001b[38;5;241m=\u001b[39mpos[\u001b[38;5;241m0\u001b[39m],posy\u001b[38;5;241m=\u001b[39mpos[\u001b[38;5;241m1\u001b[39m],posz\u001b[38;5;241m=\u001b[39mpos[\u001b[38;5;241m2\u001b[39m], prec\u001b[38;5;241m=\u001b[39mprecision)\n\u001b[1;32m     10\u001b[0m     \u001b[38;5;28mprint\u001b[39m(posmsg)\n",
            "\u001b[0;31mNameError\u001b[0m: name 'r2d2' is not defined"
          ]
        }
      ],
      "source": [
        "L=140\n",
        "W=75+5+40\n",
        "Lp = np.array([[120, -100,W/2, 1], [120, -100, -W/2, 1],[-50, -100, W/2, 1], [-50, -100, -W/2, 1]])\n",
        "\n",
        "p.setGravity(0,0,-10)\n",
        "precision=5\n",
        "for i in range (10000):\n",
        "    pos,orn = p.getBasePositionAndOrientation(r2d2)\n",
        "    posmsg='pos = {posx:.{prec}f},{posy:.{prec}f},{posz:.{prec}f}   '.format(posx=pos[0],posy=pos[1],posz=pos[2], prec=precision)\n",
        "    print(posmsg)\n",
        "    p.stepSimulation()\n",
        "p.stepSimulation()\n",
        "camTargetPos = [0,0,0]\n",
        "cameraUp = [0,0,1]\n",
        "cameraPos = [0.5,0.5,1]\n",
        "\n",
        "pitch = -10.0\n",
        "yaw = 60\n",
        "roll=0\n",
        "upAxisIndex = 2\n",
        "camDistance = 0.3\n",
        "pixelWidth = 640\n",
        "pixelHeight = 480\n",
        "nearPlane = 0.001\n",
        "farPlane = 100\n",
        "fov = 90\n",
        "viewMatrix = p.computeViewMatrixFromYawPitchRoll(camTargetPos, camDistance, yaw, pitch, roll, upAxisIndex)\n",
        "aspect = pixelWidth / pixelHeight;\n",
        "projectionMatrix = p.computeProjectionMatrixFOV(fov, aspect, nearPlane, farPlane);\n",
        "img_arr = p.getCameraImage(pixelWidth, pixelHeight, viewMatrix,projectionMatrix, shadow=1,lightDirection=[1,1,1])\n",
        "w=img_arr[0] #width of the image, in pixels\n",
        "h=img_arr[1] #height of the image, in pixels\n",
        "rgb=img_arr[2] #color data RGB\n",
        "plt.imshow(rgb,interpolation='none')\n",
        "plt.draw()\n",
        "plt.show()"
      ]
    },
    {
      "cell_type": "code",
      "execution_count": null,
      "metadata": {},
      "outputs": [],
      "source": []
    },
    {
      "cell_type": "code",
      "execution_count": null,
      "metadata": {},
      "outputs": [],
      "source": []
    },
    {
      "cell_type": "code",
      "execution_count": null,
      "metadata": {},
      "outputs": [],
      "source": []
    },
    {
      "cell_type": "code",
      "execution_count": null,
      "metadata": {},
      "outputs": [],
      "source": []
    }
  ],
  "metadata": {
    "kernel_info": {
      "name": "python3"
    },
    "kernelspec": {
      "display_name": "Python 3",
      "language": "python",
      "name": "python3"
    },
    "language_info": {
      "codemirror_mode": {
        "name": "ipython",
        "version": 3
      },
      "file_extension": ".py",
      "mimetype": "text/x-python",
      "name": "python",
      "nbconvert_exporter": "python",
      "pygments_lexer": "ipython3",
      "version": "3.11.0"
    },
    "nteract": {
      "version": "0.15.0"
    }
  },
  "nbformat": 4,
  "nbformat_minor": 2
}
